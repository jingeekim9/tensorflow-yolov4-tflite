{
 "cells": [
  {
   "cell_type": "code",
   "execution_count": 1,
   "metadata": {},
   "outputs": [
    {
     "name": "stdout",
     "output_type": "stream",
     "text": [
      "\n",
      "Note: you may need to restart the kernel to use updated packages.\n"
     ]
    },
    {
     "name": "stderr",
     "output_type": "stream",
     "text": [
      "\n",
      "CondaValueError: prefix already exists: C:\\Users\\jinge\\anaconda3\\envs\\tf-cpu\n",
      "\n"
     ]
    }
   ],
   "source": [
    "conda env create -f conda-cpu.yml"
   ]
  },
  {
   "cell_type": "code",
   "execution_count": 2,
   "metadata": {},
   "outputs": [
    {
     "name": "stdout",
     "output_type": "stream",
     "text": [
      "\n",
      "Note: you may need to restart the kernel to use updated packages.\n"
     ]
    }
   ],
   "source": [
    "conda activate tf-cpu"
   ]
  },
  {
   "cell_type": "code",
   "execution_count": 3,
   "metadata": {},
   "outputs": [
    {
     "name": "stdout",
     "output_type": "stream",
     "text": [
      "Requirement already satisfied: opencv-python==4.4.0.44 in c:\\users\\jinge\\anaconda3\\lib\\site-packages (from -r requirements.txt (line 1)) (4.4.0.44)\n",
      "Requirement already satisfied: lxml in c:\\users\\jinge\\anaconda3\\lib\\site-packages (from -r requirements.txt (line 2)) (4.6.1)\n",
      "Requirement already satisfied: tqdm in c:\\users\\jinge\\anaconda3\\lib\\site-packages (from -r requirements.txt (line 3)) (4.50.2)\n",
      "Requirement already satisfied: tensorflow==2.3.1 in c:\\users\\jinge\\anaconda3\\lib\\site-packages (from -r requirements.txt (line 4)) (2.3.1)\n",
      "Requirement already satisfied: absl-py in c:\\users\\jinge\\anaconda3\\lib\\site-packages (from -r requirements.txt (line 5)) (0.12.0)\n",
      "Requirement already satisfied: easydict in c:\\users\\jinge\\anaconda3\\lib\\site-packages (from -r requirements.txt (line 6)) (1.9)\n",
      "Requirement already satisfied: matplotlib in c:\\users\\jinge\\anaconda3\\lib\\site-packages (from -r requirements.txt (line 7)) (3.3.2)\n",
      "Requirement already satisfied: pillow in c:\\users\\jinge\\anaconda3\\lib\\site-packages (from -r requirements.txt (line 8)) (8.0.1)\n",
      "Requirement already satisfied: imutils in c:\\users\\jinge\\anaconda3\\lib\\site-packages (from -r requirements.txt (line 9)) (0.5.4)\n",
      "Requirement already satisfied: numpy>=1.17.3 in c:\\users\\jinge\\anaconda3\\lib\\site-packages (from opencv-python==4.4.0.44->-r requirements.txt (line 1)) (1.19.2)\n",
      "Requirement already satisfied: gast==0.3.3 in c:\\users\\jinge\\anaconda3\\lib\\site-packages (from tensorflow==2.3.1->-r requirements.txt (line 4)) (0.3.3)\n",
      "Requirement already satisfied: termcolor>=1.1.0 in c:\\users\\jinge\\anaconda3\\lib\\site-packages (from tensorflow==2.3.1->-r requirements.txt (line 4)) (1.1.0)\n",
      "Requirement already satisfied: astunparse==1.6.3 in c:\\users\\jinge\\anaconda3\\lib\\site-packages (from tensorflow==2.3.1->-r requirements.txt (line 4)) (1.6.3)\n",
      "Requirement already satisfied: wrapt>=1.11.1 in c:\\users\\jinge\\anaconda3\\lib\\site-packages (from tensorflow==2.3.1->-r requirements.txt (line 4)) (1.11.2)\n",
      "Requirement already satisfied: h5py<2.11.0,>=2.10.0 in c:\\users\\jinge\\anaconda3\\lib\\site-packages (from tensorflow==2.3.1->-r requirements.txt (line 4)) (2.10.0)\n",
      "Requirement already satisfied: opt-einsum>=2.3.2 in c:\\users\\jinge\\anaconda3\\lib\\site-packages (from tensorflow==2.3.1->-r requirements.txt (line 4)) (3.3.0)\n",
      "Requirement already satisfied: wheel>=0.26 in c:\\users\\jinge\\anaconda3\\lib\\site-packages (from tensorflow==2.3.1->-r requirements.txt (line 4)) (0.35.1)\n",
      "Requirement already satisfied: google-pasta>=0.1.8 in c:\\users\\jinge\\anaconda3\\lib\\site-packages (from tensorflow==2.3.1->-r requirements.txt (line 4)) (0.2.0)\n",
      "Requirement already satisfied: keras-preprocessing<1.2,>=1.1.1 in c:\\users\\jinge\\anaconda3\\lib\\site-packages (from tensorflow==2.3.1->-r requirements.txt (line 4)) (1.1.2)\n",
      "Requirement already satisfied: tensorboard<3,>=2.3.0 in c:\\users\\jinge\\anaconda3\\lib\\site-packages (from tensorflow==2.3.1->-r requirements.txt (line 4)) (2.4.1)\n",
      "Requirement already satisfied: grpcio>=1.8.6 in c:\\users\\jinge\\anaconda3\\lib\\site-packages (from tensorflow==2.3.1->-r requirements.txt (line 4)) (1.36.1)\n",
      "Requirement already satisfied: protobuf>=3.9.2 in c:\\users\\jinge\\anaconda3\\lib\\site-packages (from tensorflow==2.3.1->-r requirements.txt (line 4)) (3.15.6)\n",
      "Requirement already satisfied: six>=1.12.0 in c:\\users\\jinge\\anaconda3\\lib\\site-packages (from tensorflow==2.3.1->-r requirements.txt (line 4)) (1.15.0)\n",
      "Requirement already satisfied: tensorflow-estimator<2.4.0,>=2.3.0 in c:\\users\\jinge\\anaconda3\\lib\\site-packages (from tensorflow==2.3.1->-r requirements.txt (line 4)) (2.3.0)\n",
      "Requirement already satisfied: kiwisolver>=1.0.1 in c:\\users\\jinge\\anaconda3\\lib\\site-packages (from matplotlib->-r requirements.txt (line 7)) (1.3.0)\n",
      "Requirement already satisfied: cycler>=0.10 in c:\\users\\jinge\\anaconda3\\lib\\site-packages (from matplotlib->-r requirements.txt (line 7)) (0.10.0)\n",
      "Requirement already satisfied: pyparsing!=2.0.4,!=2.1.2,!=2.1.6,>=2.0.3 in c:\\users\\jinge\\anaconda3\\lib\\site-packages (from matplotlib->-r requirements.txt (line 7)) (2.4.7)\n",
      "Requirement already satisfied: certifi>=2020.06.20 in c:\\users\\jinge\\anaconda3\\lib\\site-packages (from matplotlib->-r requirements.txt (line 7)) (2020.6.20)\n",
      "Requirement already satisfied: python-dateutil>=2.1 in c:\\users\\jinge\\anaconda3\\lib\\site-packages (from matplotlib->-r requirements.txt (line 7)) (2.8.1)\n",
      "Requirement already satisfied: requests<3,>=2.21.0 in c:\\users\\jinge\\anaconda3\\lib\\site-packages (from tensorboard<3,>=2.3.0->tensorflow==2.3.1->-r requirements.txt (line 4)) (2.24.0)\n",
      "Requirement already satisfied: tensorboard-plugin-wit>=1.6.0 in c:\\users\\jinge\\anaconda3\\lib\\site-packages (from tensorboard<3,>=2.3.0->tensorflow==2.3.1->-r requirements.txt (line 4)) (1.8.0)\n",
      "Requirement already satisfied: markdown>=2.6.8 in c:\\users\\jinge\\anaconda3\\lib\\site-packages (from tensorboard<3,>=2.3.0->tensorflow==2.3.1->-r requirements.txt (line 4)) (3.3.4)\n",
      "Requirement already satisfied: werkzeug>=0.11.15 in c:\\users\\jinge\\anaconda3\\lib\\site-packages (from tensorboard<3,>=2.3.0->tensorflow==2.3.1->-r requirements.txt (line 4)) (1.0.1)\n",
      "Requirement already satisfied: google-auth<2,>=1.6.3 in c:\\users\\jinge\\anaconda3\\lib\\site-packages (from tensorboard<3,>=2.3.0->tensorflow==2.3.1->-r requirements.txt (line 4)) (1.28.0)\n",
      "Requirement already satisfied: google-auth-oauthlib<0.5,>=0.4.1 in c:\\users\\jinge\\anaconda3\\lib\\site-packages (from tensorboard<3,>=2.3.0->tensorflow==2.3.1->-r requirements.txt (line 4)) (0.4.3)\n",
      "Requirement already satisfied: setuptools>=41.0.0 in c:\\users\\jinge\\anaconda3\\lib\\site-packages (from tensorboard<3,>=2.3.0->tensorflow==2.3.1->-r requirements.txt (line 4)) (50.3.1.post20201107)\n",
      "Requirement already satisfied: chardet<4,>=3.0.2 in c:\\users\\jinge\\anaconda3\\lib\\site-packages (from requests<3,>=2.21.0->tensorboard<3,>=2.3.0->tensorflow==2.3.1->-r requirements.txt (line 4)) (3.0.4)\n",
      "Requirement already satisfied: idna<3,>=2.5 in c:\\users\\jinge\\anaconda3\\lib\\site-packages (from requests<3,>=2.21.0->tensorboard<3,>=2.3.0->tensorflow==2.3.1->-r requirements.txt (line 4)) (2.10)\n",
      "Requirement already satisfied: urllib3!=1.25.0,!=1.25.1,<1.26,>=1.21.1 in c:\\users\\jinge\\anaconda3\\lib\\site-packages (from requests<3,>=2.21.0->tensorboard<3,>=2.3.0->tensorflow==2.3.1->-r requirements.txt (line 4)) (1.25.11)\n",
      "Requirement already satisfied: rsa<5,>=3.1.4; python_version >= \"3.6\" in c:\\users\\jinge\\anaconda3\\lib\\site-packages (from google-auth<2,>=1.6.3->tensorboard<3,>=2.3.0->tensorflow==2.3.1->-r requirements.txt (line 4)) (4.7.2)\n",
      "Requirement already satisfied: cachetools<5.0,>=2.0.0 in c:\\users\\jinge\\anaconda3\\lib\\site-packages (from google-auth<2,>=1.6.3->tensorboard<3,>=2.3.0->tensorflow==2.3.1->-r requirements.txt (line 4)) (4.2.1)\n",
      "Requirement already satisfied: pyasn1-modules>=0.2.1 in c:\\users\\jinge\\anaconda3\\lib\\site-packages (from google-auth<2,>=1.6.3->tensorboard<3,>=2.3.0->tensorflow==2.3.1->-r requirements.txt (line 4)) (0.2.8)\n",
      "Requirement already satisfied: requests-oauthlib>=0.7.0 in c:\\users\\jinge\\anaconda3\\lib\\site-packages (from google-auth-oauthlib<0.5,>=0.4.1->tensorboard<3,>=2.3.0->tensorflow==2.3.1->-r requirements.txt (line 4)) (1.3.0)\n",
      "Requirement already satisfied: pyasn1>=0.1.3 in c:\\users\\jinge\\anaconda3\\lib\\site-packages (from rsa<5,>=3.1.4; python_version >= \"3.6\"->google-auth<2,>=1.6.3->tensorboard<3,>=2.3.0->tensorflow==2.3.1->-r requirements.txt (line 4)) (0.4.8)\n",
      "Requirement already satisfied: oauthlib>=3.0.0 in c:\\users\\jinge\\anaconda3\\lib\\site-packages (from requests-oauthlib>=0.7.0->google-auth-oauthlib<0.5,>=0.4.1->tensorboard<3,>=2.3.0->tensorflow==2.3.1->-r requirements.txt (line 4)) (3.1.0)\n",
      "Note: you may need to restart the kernel to use updated packages.\n"
     ]
    }
   ],
   "source": [
    "pip install -r requirements.txt"
   ]
  },
  {
   "cell_type": "code",
   "execution_count": 16,
   "metadata": {},
   "outputs": [
    {
     "name": "stderr",
     "output_type": "stream",
     "text": [
      "2021-03-22 22:45:12.232240: W tensorflow/stream_executor/platform/default/dso_loader.cc:59] Could not load dynamic library 'cudart64_101.dll'; dlerror: cudart64_101.dll not found\n",
      "2021-03-22 22:45:12.232292: I tensorflow/stream_executor/cuda/cudart_stub.cc:29] Ignore above cudart dlerror if you do not have a GPU set up on your machine.\n",
      "2021-03-22 22:45:16.865860: W tensorflow/stream_executor/platform/default/dso_loader.cc:59] Could not load dynamic library 'nvcuda.dll'; dlerror: nvcuda.dll not found\n",
      "2021-03-22 22:45:16.865897: W tensorflow/stream_executor/cuda/cuda_driver.cc:312] failed call to cuInit: UNKNOWN ERROR (303)\n",
      "2021-03-22 22:45:16.872535: I tensorflow/stream_executor/cuda/cuda_diagnostics.cc:169] retrieving CUDA diagnostic information for host: DESKTOP-6QMAV0U\n",
      "2021-03-22 22:45:16.872696: I tensorflow/stream_executor/cuda/cuda_diagnostics.cc:176] hostname: DESKTOP-6QMAV0U\n",
      "2021-03-22 22:45:16.873259: I tensorflow/core/platform/cpu_feature_guard.cc:142] This TensorFlow binary is optimized with oneAPI Deep Neural Network Library (oneDNN)to use the following CPU instructions in performance-critical operations:  AVX2\n",
      "To enable them in other operations, rebuild TensorFlow with the appropriate compiler flags.\n",
      "2021-03-22 22:45:16.882630: I tensorflow/compiler/xla/service/service.cc:168] XLA service 0x18fc88081a0 initialized for platform Host (this does not guarantee that XLA will be used). Devices:\n",
      "2021-03-22 22:45:16.882660: I tensorflow/compiler/xla/service/service.cc:176]   StreamExecutor device (0): Host, Default Version\n",
      "Traceback (most recent call last):\n",
      "  File \"save_model.py\", line 60, in <module>\n",
      "    app.run(main)\n",
      "  File \"C:\\Users\\jinge\\anaconda3\\lib\\site-packages\\absl\\app.py\", line 303, in run\n",
      "    _run_main(main, args)\n",
      "  File \"C:\\Users\\jinge\\anaconda3\\lib\\site-packages\\absl\\app.py\", line 251, in _run_main\n",
      "    sys.exit(main(argv))\n",
      "  File \"save_model.py\", line 56, in main\n",
      "    save_tf()\n",
      "  File \"save_model.py\", line 51, in save_tf\n",
      "    utils.load_weights(model, FLAGS.weights, FLAGS.model, FLAGS.tiny)\n",
      "  File \"C:\\Users\\jinge\\Documents\\tfliteapp2\\core\\utils.py\", line 63, in load_weights\n",
      "    conv_weights = conv_weights.reshape(conv_shape).transpose([2, 3, 1, 0])\n",
      "ValueError: cannot reshape array of size 27762 into shape (256,128,3,3)\n"
     ]
    }
   ],
   "source": [
    "!python save_model.py --weights ./data/fruit_fastest.weights --output ./checkpoints/fruit_fastest --input_size 416 --model yolov3 --framework tflite"
   ]
  },
  {
   "cell_type": "code",
   "execution_count": 60,
   "metadata": {
    "scrolled": true
   },
   "outputs": [
    {
     "name": "stdout",
     "output_type": "stream",
     "text": [
      "[{'name': 'input_1', 'index': 0, 'shape': array([  1, 416, 416,   3]), 'shape_signature': array([ -1, 416, 416,   3]), 'dtype': <class 'numpy.float32'>, 'quantization': (0.0, 0), 'quantization_parameters': {'scales': array([], dtype=float32), 'zero_points': array([], dtype=int32), 'quantized_dimension': 0}, 'sparsity_parameters': {}}]"
     ]
    },
    {
     "name": "stderr",
     "output_type": "stream",
     "text": [
      "2021-03-18 13:34:41.581709: W tensorflow/stream_executor/platform/default/dso_loader.cc:59] Could not load dynamic library 'cudart64_101.dll'; dlerror: cudart64_101.dll not found\n",
      "2021-03-18 13:34:41.581781: I tensorflow/stream_executor/cuda/cudart_stub.cc:29] Ignore above cudart dlerror if you do not have a GPU set up on your machine.\n",
      "2021-03-18 13:34:45.643163: W tensorflow/stream_executor/platform/default/dso_loader.cc:59] Could not load dynamic library 'nvcuda.dll'; dlerror: nvcuda.dll not found\n",
      "2021-03-18 13:34:45.643194: W tensorflow/stream_executor/cuda/cuda_driver.cc:312] failed call to cuInit: UNKNOWN ERROR (303)"
     ]
    },
    {
     "name": "stdout",
     "output_type": "stream",
     "text": [
      "\n",
      "[{'name': 'Identity', 'index': 233, 'shape': array([   1, 2535,    4]), 'shape_signature': array([ 1, -1,  4]), 'dtype': <class 'numpy.float32'>, 'quantization': (0.0, 0), 'quantization_parameters': {'scales': array([], dtype=float32), 'zero_points': array([], dtype=int32), 'quantized_dimension': 0}, 'sparsity_parameters': {}}, {'name': 'Identity_1', 'index': 212, 'shape': array([   1, 2535,   10]), 'shape_signature': array([ 1, -1, 10]), 'dtype': <class 'numpy.float32'>, 'quantization': (0.0, 0), 'quantization_parameters': {'scales': array([], dtype=float32), 'zero_points': array([], dtype=int32), 'quantized_dimension': 0}, 'sparsity_parameters': {}}]\n",
      "input shapes is:  [  1 416 416   3]\n",
      "[array([[[  8.89134  ,   8.987551 ,  25.320848 ,  13.483914 ],\n",
      "        [ 27.112621 ,   9.0806055,  24.063328 ,  12.9960575],\n",
      "        [ 41.378994 ,   9.298495 ,  25.323374 ,  12.76435  ],\n",
      "        ...,\n",
      "        [320.87976  , 384.25153  , 142.3449   , 106.85098  ],\n",
      "        [353.04132  , 384.32324  , 143.84468  , 118.05285  ],\n",
      "        [384.93118  , 384.28918  ,  88.25606  , 148.28555  ]]],\n",
      "      dtype=float32), array([[[2.3233393e-07, 3.9674859e-09, 3.6744898e-09, ...,\n",
      "         3.4927001e-09, 3.4255356e-09, 3.4926011e-09],\n",
      "        [1.6085717e-07, 1.0409075e-09, 8.9879143e-10, ...,\n",
      "         8.7648527e-10, 8.2702817e-10, 8.8164398e-10],\n",
      "        [3.7393590e-07, 2.1158613e-09, 1.8911710e-09, ...,\n",
      "         1.7893768e-09, 1.6989464e-09, 1.7962198e-09],\n",
      "        ...,\n",
      "        [8.0159728e-09, 2.7046969e-11, 1.6334573e-10, ...,\n",
      "         1.2446531e-10, 5.4529634e-11, 3.8558545e-10],\n",
      "        [9.1182182e-09, 4.2298859e-11, 2.2410586e-10, ...,\n",
      "         2.1641591e-10, 7.3881685e-11, 5.3636051e-10],\n",
      "        [1.7200025e-08, 1.5939870e-10, 5.9603289e-10, ...,\n",
      "         9.5872144e-10, 1.9009906e-10, 1.9794961e-09]]], dtype=float32)]\n"
     ]
    },
    {
     "name": "stderr",
     "output_type": "stream",
     "text": [
      "\n",
      "2021-03-18 13:34:45.650183: I tensorflow/stream_executor/cuda/cuda_diagnostics.cc:169] retrieving CUDA diagnostic information for host: DESKTOP-6QMAV0U\n",
      "2021-03-18 13:34:45.650355: I tensorflow/stream_executor/cuda/cuda_diagnostics.cc:176] hostname: DESKTOP-6QMAV0U\n",
      "2021-03-18 13:34:45.650919: I tensorflow/core/platform/cpu_feature_guard.cc:142] This TensorFlow binary is optimized with oneAPI Deep Neural Network Library (oneDNN)to use the following CPU instructions in performance-critical operations:  AVX2\n",
      "To enable them in other operations, rebuild TensorFlow with the appropriate compiler flags.\n",
      "2021-03-18 13:34:45.659869: I tensorflow/compiler/xla/service/service.cc:168] XLA service 0x159886e6f30 initialized for platform Host (this does not guarantee that XLA will be used). Devices:\n",
      "2021-03-18 13:34:45.659902: I tensorflow/compiler/xla/service/service.cc:176]   StreamExecutor device (0): Host, Default Version\n",
      "2021-03-18 13:35:06.126028: I tensorflow/core/grappler/devices.cc:69] Number of eligible GPUs (core count >= 8, compute capability >= 0.0): 0\n",
      "2021-03-18 13:35:06.126297: I tensorflow/core/grappler/clusters/single_machine.cc:356] Starting new session\n",
      "2021-03-18 13:35:06.265737: I tensorflow/core/grappler/optimizers/meta_optimizer.cc:816] Optimization results for grappler item: graph_to_optimize\n",
      "2021-03-18 13:35:06.265766: I tensorflow/core/grappler/optimizers/meta_optimizer.cc:818]   function_optimizer: Graph size after: 647 nodes (544), 657 edges (553), time = 23.139ms.\n",
      "2021-03-18 13:35:06.265773: I tensorflow/core/grappler/optimizers/meta_optimizer.cc:818]   function_optimizer: function_optimizer did nothing. time = 0.563ms.\n",
      "I0318 13:35:07.695914 15544 lite.py:624] Using experimental converter: If you encountered a problem please file a bug. You can opt-out by setting experimental_new_converter=False\n",
      "2021-03-18 13:35:07.830901: W tensorflow/compiler/mlir/lite/python/tf_tfl_flatbuffer_helpers.cc:313] Ignored output_format.\n",
      "2021-03-18 13:35:07.830955: W tensorflow/compiler/mlir/lite/python/tf_tfl_flatbuffer_helpers.cc:316] Ignored drop_control_dependency.\n",
      "I0318 13:35:08.203937 15544 convert_tflite.py:48] model saved to: ./checkpoints/fruit_tiny.tflite\n",
      "I0318 13:35:08.239940 15544 convert_tflite.py:53] tflite model loaded\n"
     ]
    }
   ],
   "source": [
    "!python convert_tflite.py --weights ./checkpoints/fruit --output ./checkpoints/fruit_tiny.tflite"
   ]
  },
  {
   "cell_type": "code",
   "execution_count": 6,
   "metadata": {},
   "outputs": [
    {
     "name": "stdout",
     "output_type": "stream",
     "text": [
      "[{'name': 'image_input', 'index': 344, 'shape': array([  1, 416, 416,   3]), 'shape_signature': array([ -1, 416, 416,   3]), 'dtype': <class 'numpy.float32'>, 'quantization': (0.0, 0), 'quantization_parameters': {'scales': array([], dtype=float32), 'zero_points': array([], dtype=int32), 'quantized_dimension': 0}, 'sparsity_parameters': {}}]\n",
      "[{'name': 'Identity', 'index': 345, 'shape': array([ 1, 13, 13, 45]), 'shape_signature': array([-1, 13, 13, 45]), 'dtype': <class 'numpy.float32'>, 'quantization': (0.0, 0), 'quantization_parameters': {'scales': array([], dtype=float32), 'zero_points': array([], dtype=int32), 'quantized_dimension': 0}, 'sparsity_parameters': {}}, {'name': 'Identity_1', 'index': 346, 'shape': array([ 1, 26, 26, 45]), 'shape_signature': array([-1, 26, 26, 45]), 'dtype': <class 'numpy.float32'>, 'quantization': (0.0, 0), 'quantization_parameters': {'scales': array([], dtype=float32), 'zero_points': array([], dtype=int32), 'quantized_dimension': 0}, 'sparsity_parameters': {}}]\n"
     ]
    },
    {
     "name": "stderr",
     "output_type": "stream",
     "text": [
      "2021-03-22 22:23:40.263060: W tensorflow/stream_executor/platform/default/dso_loader.cc:59] Could not load dynamic library 'cudart64_101.dll'; dlerror: cudart64_101.dll not found\n",
      "2021-03-22 22:23:40.263106: I tensorflow/stream_executor/cuda/cudart_stub.cc:29] Ignore above cudart dlerror if you do not have a GPU set up on your machine.\n",
      "2021-03-22 22:23:45.050261: W tensorflow/stream_executor/platform/default/dso_loader.cc:59] Could not load dynamic library 'nvcuda.dll'; dlerror: nvcuda.dll not found\n",
      "2021-03-22 22:23:45.050293: W tensorflow/stream_executor/cuda/cuda_driver.cc:312] failed call to cuInit: UNKNOWN ERROR (303)\n",
      "2021-03-22 22:23:45.058901: I tensorflow/stream_executor/cuda/cuda_diagnostics.cc:169] retrieving CUDA diagnostic information for host: DESKTOP-6QMAV0U\n",
      "2021-03-22 22:23:45.059189: I tensorflow/stream_executor/cuda/cuda_diagnostics.cc:176] hostname: DESKTOP-6QMAV0U\n",
      "2021-03-22 22:23:45.096506: I tensorflow/core/platform/cpu_feature_guard.cc:142] This TensorFlow binary is optimized with oneAPI Deep Neural Network Library (oneDNN)to use the following CPU instructions in performance-critical operations:  AVX2\n",
      "To enable them in other operations, rebuild TensorFlow with the appropriate compiler flags.\n",
      "2021-03-22 22:23:45.105625: I tensorflow/compiler/xla/service/service.cc:168] XLA service 0x20841eeb380 initialized for platform Host (this does not guarantee that XLA will be used). Devices:\n",
      "2021-03-22 22:23:45.105661: I tensorflow/compiler/xla/service/service.cc:176]   StreamExecutor device (0): Host, Default Version\n",
      "Traceback (most recent call last):\n",
      "  File \"detect.py\", line 90, in <module>\n",
      "    app.run(main)\n",
      "  File \"C:\\Users\\jinge\\anaconda3\\lib\\site-packages\\absl\\app.py\", line 303, in run\n",
      "    _run_main(main, args)\n",
      "  File \"C:\\Users\\jinge\\anaconda3\\lib\\site-packages\\absl\\app.py\", line 251, in _run_main\n",
      "    sys.exit(main(argv))\n",
      "  File \"detect.py\", line 61, in main\n",
      "    boxes, pred_conf = filter_boxes(pred[0], pred[1], score_threshold=0.25, input_shape=tf.constant([input_size, input_size]))\n",
      "  File \"C:\\Users\\jinge\\Documents\\tfliteapp2\\core\\yolov4.py\", line 296, in filter_boxes\n",
      "    class_boxes = tf.boolean_mask(box_xywh, mask)\n",
      "  File \"C:\\Users\\jinge\\anaconda3\\lib\\site-packages\\tensorflow\\python\\util\\dispatch.py\", line 201, in wrapper\n",
      "    return target(*args, **kwargs)\n",
      "  File \"C:\\Users\\jinge\\anaconda3\\lib\\site-packages\\tensorflow\\python\\ops\\array_ops.py\", line 1803, in boolean_mask_v2\n",
      "    return boolean_mask(tensor, mask, name, axis)\n",
      "  File \"C:\\Users\\jinge\\anaconda3\\lib\\site-packages\\tensorflow\\python\\util\\dispatch.py\", line 201, in wrapper\n",
      "    return target(*args, **kwargs)\n",
      "  File \"C:\\Users\\jinge\\anaconda3\\lib\\site-packages\\tensorflow\\python\\ops\\array_ops.py\", line 1730, in boolean_mask\n",
      "    shape_tensor[axis:axis + ndims_mask].assert_is_compatible_with(shape_mask)\n",
      "  File \"C:\\Users\\jinge\\anaconda3\\lib\\site-packages\\tensorflow\\python\\framework\\tensor_shape.py\", line 1134, in assert_is_compatible_with\n",
      "    raise ValueError(\"Shapes %s and %s are incompatible\" % (self, other))\n",
      "ValueError: Shapes (1, 13, 13) and (1, 26, 26) are incompatible\n"
     ]
    }
   ],
   "source": [
    "!python detect.py --weights ./checkpoints/fruit_fastest2.tflite --size 416 --model yolov4 --image ./data/apple.png --framework tflite"
   ]
  },
  {
   "cell_type": "code",
   "execution_count": null,
   "metadata": {},
   "outputs": [],
   "source": []
  }
 ],
 "metadata": {
  "kernelspec": {
   "display_name": "Python 3",
   "language": "python",
   "name": "python3"
  },
  "language_info": {
   "codemirror_mode": {
    "name": "ipython",
    "version": 3
   },
   "file_extension": ".py",
   "mimetype": "text/x-python",
   "name": "python",
   "nbconvert_exporter": "python",
   "pygments_lexer": "ipython3",
   "version": "3.8.5"
  }
 },
 "nbformat": 4,
 "nbformat_minor": 4
}
